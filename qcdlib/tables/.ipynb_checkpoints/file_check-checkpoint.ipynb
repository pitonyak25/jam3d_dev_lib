{
 "cells": [
  {
   "cell_type": "code",
   "execution_count": 1,
   "id": "fabulous-multiple",
   "metadata": {},
   "outputs": [],
   "source": [
    "files=[]\n",
    "for i in range(1,984):\n",
    "    if i < 10: files.append('JAM22-FF_pion_nlo_000'+'%s'%i+'.dat')\n",
    "    elif i >=10 and i < 100: files.append('JAM22-FF_pion_nlo_00'+'%s'%i+'.dat')\n",
    "    elif i >=100: files.append('JAM22-FF_pion_nlo_0'+'%s'%i+'.dat')"
   ]
  },
  {
   "cell_type": "code",
   "execution_count": 2,
   "id": "approved-acceptance",
   "metadata": {},
   "outputs": [],
   "source": [
    "import os"
   ]
  },
  {
   "cell_type": "code",
   "execution_count": 3,
   "id": "improving-intensity",
   "metadata": {},
   "outputs": [
    {
     "name": "stdout",
     "output_type": "stream",
     "text": [
      "JAM22-FF_pion_nlo_0093.dat\n",
      "JAM22-FF_pion_nlo_0350.dat\n",
      "JAM22-FF_pion_nlo_0404.dat\n",
      "JAM22-FF_pion_nlo_0425.dat\n",
      "JAM22-FF_pion_nlo_0465.dat\n",
      "JAM22-FF_pion_nlo_0823.dat\n"
     ]
    }
   ],
   "source": [
    "for f in files:\n",
    "    if f not in os.listdir(): print(f)"
   ]
  },
  {
   "cell_type": "code",
   "execution_count": null,
   "id": "thick-watershed",
   "metadata": {},
   "outputs": [],
   "source": []
  }
 ],
 "metadata": {
  "kernelspec": {
   "display_name": "Python 3",
   "language": "python",
   "name": "python3"
  },
  "language_info": {
   "codemirror_mode": {
    "name": "ipython",
    "version": 3
   },
   "file_extension": ".py",
   "mimetype": "text/x-python",
   "name": "python",
   "nbconvert_exporter": "python",
   "pygments_lexer": "ipython3",
   "version": "3.8.6"
  }
 },
 "nbformat": 4,
 "nbformat_minor": 5
}
