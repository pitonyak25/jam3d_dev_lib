{
 "cells": [
  {
   "cell_type": "code",
   "execution_count": 1,
   "metadata": {},
   "outputs": [
    {
     "name": "stderr",
     "output_type": "stream",
     "text": [
      "Matplotlib created a temporary config/cache directory at /tmp/matplotlib-gpfyj16b because the default path (/home/jovyan/.cache/matplotlib) is not a writable directory; it is highly recommended to set the MPLCONFIGDIR environment variable to a writable directory, in particular to speed up the import of Matplotlib and to better support multiprocessing.\n"
     ]
    }
   ],
   "source": [
    "import sys\n",
    "sys.path.append('/w/jam-sciwork18/pitonyak/jam3d')\n",
    "import os\n",
    "os.environ[\"JAM3D\"] = \"/w/jam-sciwork18/pitonyak/jam3d\"\n",
    "import numpy as np\n",
    "import pandas as pd\n",
    "from tools.tools import load,save,checkdir,lprint\n",
    "from qcdlib.core import CORE\n",
    "from qcdlib.aux import AUX\n",
    "from qcdlib.interpolator import INTERPOLATOR\n",
    "from tools.config import conf\n",
    "from ppdf0_WW import PPDF\n",
    "import matplotlib.pyplot as plt\n",
    "from scipy.integrate import quad, fixed_quad\n",
    "\n",
    "conf['aux'] = AUX()"
   ]
  },
  {
   "cell_type": "code",
   "execution_count": 6,
   "metadata": {},
   "outputs": [],
   "source": [
    "ppdf_files_NNPDF=[]\n",
    "for i in range(1,101):\n",
    "    if i < 10: ppdf_files_NNPDF.append('NNPDFpol11_100_000'+'%s'%i)\n",
    "    elif i >=10 and i < 100: ppdf_files_NNPDF.append('NNPDFpol11_100_00'+'%s'%i)\n",
    "    elif i >=100: ppdf_files_NNPDF.append('NNPDFpol11_100_0'+'%s'%i)\n",
    "        \n",
    "ppdf_files_JAM=[]\n",
    "for i in range(1,201):\n",
    "    if i < 10: ppdf_files_JAM.append('JAM17_PPDF_nlo_000'+'%s'%i)\n",
    "    elif i >=10 and i < 100: ppdf_files_JAM.append('JAM17_PPDF_nlo_00'+'%s'%i)\n",
    "    elif i >=100: ppdf_files_JAM.append('JAM17_PPDF_nlo_0'+'%s'%i)\n",
    "        \n",
    "ppdf_files_DSSV=[]\n",
    "for i in range(1,201):\n",
    "    if i < 10: ppdf_files_DSSV.append('DSSV_REP_LHAPDF6_000'+'%s'%i)\n",
    "    elif i >=10 and i < 100: ppdf_files_DSSV.append('DSSV_REP_LHAPDF6_00'+'%s'%i)\n",
    "    elif i >=100: ppdf_files_DSSV.append('DSSV_REP_LHAPDF6_0'+'%s'%i)"
   ]
  },
  {
   "cell_type": "markdown",
   "metadata": {},
   "source": [
    "## Calculating g1T_WW"
   ]
  },
  {
   "cell_type": "code",
   "execution_count": 3,
   "metadata": {},
   "outputs": [],
   "source": [
    "xarr=np.linspace(0.01,0.99,100)\n",
    "Q2=4\n",
    "g1Tu_WW_mean=[]\n",
    "g1Tu_WW_std=[]\n",
    "for x in xarr:\n",
    "    g1Tu_WWarr=[]\n",
    "    for f in ppdf_files_NNPDF:\n",
    "        conf['ppdf']  = PPDF('p','/NNPDFpol11_100/%s'%f)\n",
    "        g1Tu_WW = x*quad((lambda y: conf['ppdf'].get_C(y, Q2)[1]/y),x,1)[0]\n",
    "        g1Tu_WWarr.append(g1Tu_WW)\n",
    "    g1Tu_WW_mean.append(np.mean(g1Tu_WWarr))\n",
    "    g1Tu_WW_std.append(np.std(g1Tu_WWarr))\n",
    "\n",
    "g1Tu_WW_mean = np.array(g1Tu_WW_mean)\n",
    "g1Tu_WW_std = np.array(g1Tu_WW_std)\n",
    "\n",
    "save([g1Tu_WW_mean,g1Tu_WW_std],'g1TWW_data_NNPDF/g1Tu_WW_Q2_%d.dat'%int(Q2))"
   ]
  },
  {
   "cell_type": "code",
   "execution_count": 4,
   "metadata": {},
   "outputs": [],
   "source": [
    "xarr=np.linspace(0.01,0.99,100)\n",
    "Q2=4\n",
    "g1Tu_WW_mean=[]\n",
    "g1Tu_WW_std=[]\n",
    "for x in xarr:\n",
    "    g1Tu_WWarr=[]\n",
    "    for f in ppdf_files_JAM:\n",
    "        conf['ppdf']  = PPDF('p','/JAM17_PPDF_nlo/%s'%f)\n",
    "        g1Tu_WW = x*quad((lambda y: conf['ppdf'].get_C(y, Q2)[1]/y),x,1)[0]\n",
    "        g1Tu_WWarr.append(g1Tu_WW)\n",
    "    g1Tu_WW_mean.append(np.mean(g1Tu_WWarr))\n",
    "    g1Tu_WW_std.append(np.std(g1Tu_WWarr))\n",
    "\n",
    "g1Tu_WW_mean = np.array(g1Tu_WW_mean)\n",
    "g1Tu_WW_std = np.array(g1Tu_WW_std)\n",
    "\n",
    "save([g1Tu_WW_mean,g1Tu_WW_std],'g1TWW_data_JAM/g1Tu_WW_Q2_%d.dat'%int(Q2))"
   ]
  },
  {
   "cell_type": "code",
   "execution_count": 7,
   "metadata": {},
   "outputs": [
    {
     "ename": "FileNotFoundError",
     "evalue": "[Errno 2] No such file or directory: '/w/jam-sciwork18/pitonyak/jam3d/qcdlib/tables//DSSV19_REP_LHAPDF6/DSSV_REP_LHAPDF6_00001.dat'",
     "output_type": "error",
     "traceback": [
      "\u001b[0;31m---------------------------------------------------------------------------\u001b[0m",
      "\u001b[0;31mFileNotFoundError\u001b[0m                         Traceback (most recent call last)",
      "\u001b[0;32m<ipython-input-7-54daee6176e4>\u001b[0m in \u001b[0;36m<module>\u001b[0;34m\u001b[0m\n\u001b[1;32m      6\u001b[0m     \u001b[0mg1Tu_WWarr\u001b[0m\u001b[0;34m=\u001b[0m\u001b[0;34m[\u001b[0m\u001b[0;34m]\u001b[0m\u001b[0;34m\u001b[0m\u001b[0;34m\u001b[0m\u001b[0m\n\u001b[1;32m      7\u001b[0m     \u001b[0;32mfor\u001b[0m \u001b[0mf\u001b[0m \u001b[0;32min\u001b[0m \u001b[0mppdf_files_DSSV\u001b[0m\u001b[0;34m:\u001b[0m\u001b[0;34m\u001b[0m\u001b[0;34m\u001b[0m\u001b[0m\n\u001b[0;32m----> 8\u001b[0;31m         \u001b[0mconf\u001b[0m\u001b[0;34m[\u001b[0m\u001b[0;34m'ppdf'\u001b[0m\u001b[0;34m]\u001b[0m  \u001b[0;34m=\u001b[0m \u001b[0mPPDF\u001b[0m\u001b[0;34m(\u001b[0m\u001b[0;34m'p'\u001b[0m\u001b[0;34m,\u001b[0m\u001b[0;34m'/DSSV19_REP_LHAPDF6/%s'\u001b[0m\u001b[0;34m%\u001b[0m\u001b[0mf\u001b[0m\u001b[0;34m)\u001b[0m\u001b[0;34m\u001b[0m\u001b[0;34m\u001b[0m\u001b[0m\n\u001b[0m\u001b[1;32m      9\u001b[0m         \u001b[0mg1Tu_WW\u001b[0m \u001b[0;34m=\u001b[0m \u001b[0mx\u001b[0m\u001b[0;34m*\u001b[0m\u001b[0mquad\u001b[0m\u001b[0;34m(\u001b[0m\u001b[0;34m(\u001b[0m\u001b[0;32mlambda\u001b[0m \u001b[0my\u001b[0m\u001b[0;34m:\u001b[0m \u001b[0mconf\u001b[0m\u001b[0;34m[\u001b[0m\u001b[0;34m'ppdf'\u001b[0m\u001b[0;34m]\u001b[0m\u001b[0;34m.\u001b[0m\u001b[0mget_C\u001b[0m\u001b[0;34m(\u001b[0m\u001b[0my\u001b[0m\u001b[0;34m,\u001b[0m \u001b[0mQ2\u001b[0m\u001b[0;34m)\u001b[0m\u001b[0;34m[\u001b[0m\u001b[0;36m1\u001b[0m\u001b[0;34m]\u001b[0m\u001b[0;34m/\u001b[0m\u001b[0my\u001b[0m\u001b[0;34m)\u001b[0m\u001b[0;34m,\u001b[0m\u001b[0mx\u001b[0m\u001b[0;34m,\u001b[0m\u001b[0;36m1\u001b[0m\u001b[0;34m)\u001b[0m\u001b[0;34m[\u001b[0m\u001b[0;36m0\u001b[0m\u001b[0;34m]\u001b[0m\u001b[0;34m\u001b[0m\u001b[0;34m\u001b[0m\u001b[0m\n\u001b[1;32m     10\u001b[0m         \u001b[0mg1Tu_WWarr\u001b[0m\u001b[0;34m.\u001b[0m\u001b[0mappend\u001b[0m\u001b[0;34m(\u001b[0m\u001b[0mg1Tu_WW\u001b[0m\u001b[0;34m)\u001b[0m\u001b[0;34m\u001b[0m\u001b[0;34m\u001b[0m\u001b[0m\n",
      "\u001b[0;32m/w/jam-sciwork18/pitonyak/jam3d/database/g1T_WW/ppdf0_WW.py\u001b[0m in \u001b[0;36m__init__\u001b[0;34m(self, hadron, file)\u001b[0m\n\u001b[1;32m     15\u001b[0m     \u001b[0;32mdef\u001b[0m \u001b[0m__init__\u001b[0m\u001b[0;34m(\u001b[0m\u001b[0mself\u001b[0m\u001b[0;34m,\u001b[0m\u001b[0mhadron\u001b[0m\u001b[0;34m=\u001b[0m\u001b[0;34m'p'\u001b[0m\u001b[0;34m,\u001b[0m\u001b[0mfile\u001b[0m\u001b[0;34m=\u001b[0m\u001b[0;34m'NNPDFpol11_100_0000'\u001b[0m\u001b[0;34m)\u001b[0m\u001b[0;34m:\u001b[0m\u001b[0;34m\u001b[0m\u001b[0;34m\u001b[0m\u001b[0m\n\u001b[1;32m     16\u001b[0m         \u001b[0mself\u001b[0m\u001b[0;34m.\u001b[0m\u001b[0maux\u001b[0m \u001b[0;34m=\u001b[0m \u001b[0mconf\u001b[0m\u001b[0;34m[\u001b[0m\u001b[0;34m'aux'\u001b[0m\u001b[0;34m]\u001b[0m\u001b[0;34m\u001b[0m\u001b[0;34m\u001b[0m\u001b[0m\n\u001b[0;32m---> 17\u001b[0;31m         \u001b[0;32mif\u001b[0m \u001b[0mhadron\u001b[0m\u001b[0;34m==\u001b[0m\u001b[0;34m'p'\u001b[0m\u001b[0;34m:\u001b[0m \u001b[0mself\u001b[0m\u001b[0;34m.\u001b[0m\u001b[0mpdf\u001b[0m\u001b[0;34m=\u001b[0m\u001b[0mINTERPOLATOR\u001b[0m\u001b[0;34m(\u001b[0m\u001b[0mfile\u001b[0m\u001b[0;34m)\u001b[0m\u001b[0;34m\u001b[0m\u001b[0;34m\u001b[0m\u001b[0m\n\u001b[0m\u001b[1;32m     18\u001b[0m \u001b[0;34m\u001b[0m\u001b[0m\n\u001b[1;32m     19\u001b[0m     \u001b[0;32mdef\u001b[0m \u001b[0mget_C\u001b[0m\u001b[0;34m(\u001b[0m\u001b[0mself\u001b[0m\u001b[0;34m,\u001b[0m \u001b[0mx\u001b[0m\u001b[0;34m,\u001b[0m \u001b[0mQ2\u001b[0m\u001b[0;34m)\u001b[0m\u001b[0;34m:\u001b[0m\u001b[0;34m\u001b[0m\u001b[0;34m\u001b[0m\u001b[0m\n",
      "\u001b[0;32m/w/jam-sciwork18/pitonyak/jam3d/qcdlib/interpolator.py\u001b[0m in \u001b[0;36m__init__\u001b[0;34m(self, fname)\u001b[0m\n\u001b[1;32m      9\u001b[0m     \u001b[0;32mdef\u001b[0m \u001b[0m__init__\u001b[0m\u001b[0;34m(\u001b[0m\u001b[0mself\u001b[0m\u001b[0;34m,\u001b[0m\u001b[0mfname\u001b[0m\u001b[0;34m)\u001b[0m\u001b[0;34m:\u001b[0m\u001b[0;34m\u001b[0m\u001b[0;34m\u001b[0m\u001b[0m\n\u001b[1;32m     10\u001b[0m \u001b[0;34m\u001b[0m\u001b[0m\n\u001b[0;32m---> 11\u001b[0;31m         \u001b[0mL\u001b[0m\u001b[0;34m=\u001b[0m\u001b[0mopen\u001b[0m\u001b[0;34m(\u001b[0m\u001b[0;34m'%s/qcdlib/tables/%s.dat'\u001b[0m\u001b[0;34m%\u001b[0m\u001b[0;34m(\u001b[0m\u001b[0mos\u001b[0m\u001b[0;34m.\u001b[0m\u001b[0menviron\u001b[0m\u001b[0;34m[\u001b[0m\u001b[0;34m'JAM3D'\u001b[0m\u001b[0;34m]\u001b[0m\u001b[0;34m,\u001b[0m\u001b[0mfname\u001b[0m\u001b[0;34m)\u001b[0m\u001b[0;34m)\u001b[0m\u001b[0;34m.\u001b[0m\u001b[0mreadlines\u001b[0m\u001b[0;34m(\u001b[0m\u001b[0;34m)\u001b[0m\u001b[0;34m\u001b[0m\u001b[0;34m\u001b[0m\u001b[0m\n\u001b[0m\u001b[1;32m     12\u001b[0m         \u001b[0mx\u001b[0m\u001b[0;34m=\u001b[0m\u001b[0;34m[\u001b[0m\u001b[0mfloat\u001b[0m\u001b[0;34m(\u001b[0m\u001b[0mval\u001b[0m\u001b[0;34m)\u001b[0m \u001b[0;32mfor\u001b[0m \u001b[0mval\u001b[0m \u001b[0;32min\u001b[0m \u001b[0mL\u001b[0m\u001b[0;34m[\u001b[0m\u001b[0;36m3\u001b[0m\u001b[0;34m]\u001b[0m\u001b[0;34m.\u001b[0m\u001b[0msplit\u001b[0m\u001b[0;34m(\u001b[0m\u001b[0;34m)\u001b[0m\u001b[0;34m]\u001b[0m\u001b[0;34m\u001b[0m\u001b[0;34m\u001b[0m\u001b[0m\n\u001b[1;32m     13\u001b[0m         \u001b[0mQ\u001b[0m\u001b[0;34m=\u001b[0m\u001b[0;34m[\u001b[0m\u001b[0mfloat\u001b[0m\u001b[0;34m(\u001b[0m\u001b[0mval\u001b[0m\u001b[0;34m)\u001b[0m \u001b[0;32mfor\u001b[0m \u001b[0mval\u001b[0m \u001b[0;32min\u001b[0m \u001b[0mL\u001b[0m\u001b[0;34m[\u001b[0m\u001b[0;36m4\u001b[0m\u001b[0;34m]\u001b[0m\u001b[0;34m.\u001b[0m\u001b[0msplit\u001b[0m\u001b[0;34m(\u001b[0m\u001b[0;34m)\u001b[0m\u001b[0;34m]\u001b[0m\u001b[0;34m\u001b[0m\u001b[0;34m\u001b[0m\u001b[0m\n",
      "\u001b[0;31mFileNotFoundError\u001b[0m: [Errno 2] No such file or directory: '/w/jam-sciwork18/pitonyak/jam3d/qcdlib/tables//DSSV19_REP_LHAPDF6/DSSV_REP_LHAPDF6_00001.dat'"
     ]
    }
   ],
   "source": [
    "xarr=np.linspace(0.01,0.99,100)\n",
    "Q2=4\n",
    "g1Tu_WW_mean=[]\n",
    "g1Tu_WW_std=[]\n",
    "for x in xarr:\n",
    "    g1Tu_WWarr=[]\n",
    "    for f in ppdf_files_DSSV:\n",
    "        conf['ppdf']  = PPDF('p','/DSSV19_REP_LHAPDF6/%s'%f)\n",
    "        g1Tu_WW = x*quad((lambda y: conf['ppdf'].get_C(y, Q2)[1]/y),x,1)[0]\n",
    "        g1Tu_WWarr.append(g1Tu_WW)\n",
    "    g1Tu_WW_mean.append(np.mean(g1Tu_WWarr))\n",
    "    g1Tu_WW_std.append(np.std(g1Tu_WWarr))\n",
    "\n",
    "g1Tu_WW_mean = np.array(g1Tu_WW_mean)\n",
    "g1Tu_WW_std = np.array(g1Tu_WW_std)\n",
    "\n",
    "save([g1Tu_WW_mean,g1Tu_WW_std],'g1TWW_data_DSSV/g1Tu_WW_Q2_%d.dat'%int(Q2))"
   ]
  },
  {
   "cell_type": "code",
   "execution_count": null,
   "metadata": {},
   "outputs": [],
   "source": [
    "Q2=4\n",
    "g1Tu_WW_mean_NNPDF=load('g1TWW_data_NNPDF/g1Tu_WW_Q2_%d.dat'%Q2)[0]\n",
    "g1Tu_WW_std_NNPDF=load('g1TWW_data_NNPDF/g1Tu_WW_Q2_%d.dat'%Q2)[1]\n",
    "g1Tu_WW_mean_JAM=load('g1TWW_data_JAM/g1Tu_WW_Q2_%d.dat'%Q2)[0]\n",
    "g1Tu_WW_std_JAM=load('g1TWW_data_JAM/g1Tu_WW_Q2_%d.dat'%Q2)[1]\n",
    "g1Tu_WW_mean_DSSV=load('g1TWW_data_DSSV/g1Tu_WW_Q2_%d.dat'%Q2)[0]\n",
    "g1Tu_WW_std_DSSV=load('g1TWW_data_DSSV/g1Tu_WW_Q2_%d.dat'%Q2)[1]\n",
    "\n",
    "plt.figure()\n",
    "plt.plot(xarr,xarr*g1Tu_WW_mean_JAM,color='r')\n",
    "plt.plot(xarr,xarr*g1Tu_WW_mean_NNPDF,color='b')\n",
    "plt.plot(xarr,xarr*g1Tu_WW_mean_NNPDF,color='orange')\n",
    "plt.ylabel(r'$xg_{1T,WW}^{(1)u}(x)$',size=15)\n",
    "plt.xlabel(r'$x$',size=15)\n",
    "plt.fill_between(xarr,xarr*(g1Tu_WW_mean_JAM+g1Tu_WW_std_JAM),xarr*(g1Tu_WW_mean_JAM-g1Tu_WW_std_JAM),color='r',alpha=0.3)\n",
    "plt.fill_between(xarr,xarr*(g1Tu_WW_mean_NNPDF+g1Tu_WW_std_NNPDF),xarr*(g1Tu_WW_mean_NNPDF-g1Tu_WW_std_NNPDF),color='cyan',alpha=0.5)\n",
    "plt.fill_between(xarr,xarr*(g1Tu_WW_mean_DSSV+g1Tu_WW_std_DSSV),xarr*(g1Tu_WW_mean_DSSV-g1Tu_WW_std_DSSV),color='orange',alpha=0.5)\n",
    "plt.legend(['NNPDFpol','JAM','DSSV'])\n",
    "plt.show()"
   ]
  },
  {
   "cell_type": "code",
   "execution_count": null,
   "metadata": {},
   "outputs": [],
   "source": [
    "xarr=np.linspace(0.01,0.99,100)\n",
    "Q2=4\n",
    "g1Td_WW_mean=[]\n",
    "g1Td_WW_std=[]\n",
    "for x in xarr:\n",
    "    g1Td_WWarr=[]\n",
    "    for f in ppdf_files_NNPDF:\n",
    "        conf['ppdf']  = PPDF('p','/NNPDFpol11_100/%s'%f)\n",
    "        g1Td_WW = x*quad((lambda y: conf['ppdf'].get_C(y, Q2)[3]/y),x,1)[0]\n",
    "        g1Td_WWarr.append(g1Td_WW)\n",
    "    g1Td_WW_mean.append(np.mean(g1Td_WWarr))\n",
    "    g1Td_WW_std.append(np.std(g1Td_WWarr))\n",
    "\n",
    "g1Td_WW_mean = np.array(g1Td_WW_mean)\n",
    "g1Td_WW_std = np.array(g1Td_WW_std)\n",
    "\n",
    "save([g1Td_WW_mean,g1Td_WW_std],'g1TWW_data_NNPDF/g1Td_WW_Q2_%d.dat'%int(Q2))"
   ]
  },
  {
   "cell_type": "code",
   "execution_count": null,
   "metadata": {},
   "outputs": [],
   "source": [
    "xarr=np.linspace(0.01,0.99,100)\n",
    "Q2=4\n",
    "g1Td_WW_mean=[]\n",
    "g1Td_WW_std=[]\n",
    "for x in xarr:\n",
    "    g1Td_WWarr=[]\n",
    "    for f in ppdf_files_JAM:\n",
    "        conf['ppdf']  = PPDF('p','/JAM17_PPDF_nlo/%s'%f)\n",
    "        g1Td_WW = x*quad((lambda y: conf['ppdf'].get_C(y, Q2)[3]/y),x,1)[0]\n",
    "        g1Td_WWarr.append(g1Td_WW)\n",
    "    g1Td_WW_mean.append(np.mean(g1Td_WWarr))\n",
    "    g1Td_WW_std.append(np.std(g1Td_WWarr))\n",
    "\n",
    "g1Td_WW_mean = np.array(g1Td_WW_mean)\n",
    "g1Td_WW_std = np.array(g1Td_WW_std)\n",
    "\n",
    "save([g1Td_WW_mean,g1Td_WW_std],'g1TWW_data_JAM/g1Td_WW_Q2_%d.dat'%int(Q2))"
   ]
  },
  {
   "cell_type": "code",
   "execution_count": null,
   "metadata": {},
   "outputs": [],
   "source": [
    "xarr=np.linspace(0.01,0.99,100)\n",
    "Q2=4\n",
    "g1Td_WW_mean=[]\n",
    "g1Td_WW_std=[]\n",
    "for x in xarr:\n",
    "    g1Td_WWarr=[]\n",
    "    for f in ppdf_files_DSSV:\n",
    "        conf['ppdf']  = PPDF('p','/DSSV19_REP_LHAPDF6/%s'%f)\n",
    "        g1Td_WW = x*quad((lambda y: conf['ppdf'].get_C(y, Q2)[3]/y),x,1)[0]\n",
    "        g1Td_WWarr.append(g1Td_WW)\n",
    "    g1Td_WW_mean.append(np.mean(g1Td_WWarr))\n",
    "    g1Td_WW_std.append(np.std(g1Td_WWarr))\n",
    "\n",
    "g1Td_WW_mean = np.array(g1Td_WW_mean)\n",
    "g1Td_WW_std = np.array(g1Td_WW_std)\n",
    "\n",
    "save([g1Td_WW_mean,g1Td_WW_std],'g1TWW_data_DSSV/g1Td_WW_Q2_%d.dat'%int(Q2))"
   ]
  },
  {
   "cell_type": "code",
   "execution_count": null,
   "metadata": {},
   "outputs": [],
   "source": [
    "Q2=4\n",
    "g1Td_WW_mean_NNPDF=load('g1TWW_data_NNPDF/g1Td_WW_Q2_%d.dat'%Q2)[0]\n",
    "g1Td_WW_std_NNPDF=load('g1TWW_data_NNPDF/g1Td_WW_Q2_%d.dat'%Q2)[1]\n",
    "g1Td_WW_mean_JAM=load('g1TWW_data_JAM/g1Td_WW_Q2_%d.dat'%Q2)[0]\n",
    "g1Td_WW_std_JAM=load('g1TWW_data_JAM/g1Td_WW_Q2_%d.dat'%Q2)[1]\n",
    "g1Td_WW_mean_DSSV=load('g1TWW_data_DSSV/g1Td_WW_Q2_%d.dat'%Q2)[0]\n",
    "g1Td_WW_std_DSSV=load('g1TWW_data_DSSV/g1Td_WW_Q2_%d.dat'%Q2)[1]\n",
    "\n",
    "plt.figure()\n",
    "plt.plot(xarr,xarr*g1Td_WW_mean_JAM,color='r')\n",
    "plt.plot(xarr,xarr*g1Td_WW_mean_NNPDF,color='b')\n",
    "plt.plot(xarr,xarr*g1Td_WW_mean_DSSV,color='orange')\n",
    "plt.ylabel(r'$xg_{1T,WW}^{(1)u}(x)$',size=15)\n",
    "plt.xlabel(r'$x$',size=15)\n",
    "plt.fill_between(xarr,xarr*(g1Td_WW_mean_JAM+g1Td_WW_std_JAM),xarr*(g1Td_WW_mean_JAM-g1Td_WW_std_JAM),color='r',alpha=0.3)\n",
    "plt.fill_between(xarr,xarr*(g1Td_WW_mean_NNPDF+g1Td_WW_std_NNPDF),xarr*(g1Td_WW_mean_NNPDF-g1Td_WW_std_NNPDF),color='cyan',alpha=0.5)\n",
    "plt.fill_between(xarr,xarr*(g1Td_WW_mean_DSSV+g1Td_WW_std_DSSV),xarr*(g1Td_WW_mean_DSSV-g1Td_WW_std_DSSV),color='cyan',alpha=0.5)\n",
    "plt.legend(['NNPDFpol','JAM','DSSV'])\n",
    "plt.show()"
   ]
  },
  {
   "cell_type": "code",
   "execution_count": null,
   "metadata": {},
   "outputs": [],
   "source": [
    "g1TuWW_arr=[]\n",
    "for i in range(len(xarr)): g1TuWW_arr.append([xarr[i],g1Tu_WW_mean_NNPDF[i],g1Tu_WW_std_NNPDF[i]])\n",
    "dfg1TuWW = pd.DataFrame(g1TuWW_arr,columns=['x','g1TWW_mean','g1TWW_std'])\n",
    "writer = pd.ExcelWriter('g1TWW_data_NNPDF/g1TuWW_NNPDF.xlsx', engine='xlsxwriter')\n",
    "dfg1TuWW.to_excel(writer,index=False)\n",
    "writer.save()"
   ]
  },
  {
   "cell_type": "code",
   "execution_count": null,
   "metadata": {},
   "outputs": [],
   "source": [
    "g1TdWW_arr=[]\n",
    "for i in range(len(xarr)): g1TdWW_arr.append([xarr[i],g1Td_WW_mean_NNPDF[i],g1Td_WW_std_NNPDF[i]])\n",
    "dfg1TdWW = pd.DataFrame(g1TdWW_arr,columns=['x','g1TWW_mean','g1TWW_std'])\n",
    "writer = pd.ExcelWriter('g1TWW_data_NNPDF/g1TdWW_NNPDF.xlsx', engine='xlsxwriter')\n",
    "dfg1TdWW.to_excel(writer,index=False)\n",
    "writer.save()"
   ]
  },
  {
   "cell_type": "code",
   "execution_count": null,
   "metadata": {},
   "outputs": [],
   "source": [
    "g1TuWW_arr=[]\n",
    "for i in range(len(xarr)): g1TuWW_arr.append([xarr[i],g1Tu_WW_mean_JAM[i],g1Tu_WW_std_JAM[i]])\n",
    "dfg1TuWW = pd.DataFrame(g1TuWW_arr,columns=['x','g1TWW_mean','g1TWW_std'])\n",
    "writer = pd.ExcelWriter('g1TWW_data_JAM/g1TuWW_JAM.xlsx', engine='xlsxwriter')\n",
    "dfg1TuWW.to_excel(writer,index=False)\n",
    "writer.save()"
   ]
  },
  {
   "cell_type": "code",
   "execution_count": null,
   "metadata": {},
   "outputs": [],
   "source": [
    "g1TdWW_arr=[]\n",
    "for i in range(len(xarr)): g1TdWW_arr.append([xarr[i],g1Td_WW_mean_JAM[i],g1Td_WW_std_JAM[i]])\n",
    "dfg1TdWW = pd.DataFrame(g1TdWW_arr,columns=['x','g1TWW_mean','g1TWW_std'])\n",
    "writer = pd.ExcelWriter('g1TWW_data_JAM/g1TdWW_JAM.xlsx', engine='xlsxwriter')\n",
    "dfg1TdWW.to_excel(writer,index=False)\n",
    "writer.save()"
   ]
  },
  {
   "cell_type": "code",
   "execution_count": null,
   "metadata": {},
   "outputs": [],
   "source": [
    "g1TuWW_arr=[]\n",
    "for i in range(len(xarr)): g1TuWW_arr.append([xarr[i],g1Tu_WW_mean_DSSV[i],g1Tu_WW_std_DSSV[i]])\n",
    "dfg1TuWW = pd.DataFrame(g1TuWW_arr,columns=['x','g1TWW_mean','g1TWW_std'])\n",
    "writer = pd.ExcelWriter('g1TWW_data_DSSV/g1TuWW_DSSV.xlsx', engine='xlsxwriter')\n",
    "dfg1TuWW.to_excel(writer,index=False)\n",
    "writer.save()"
   ]
  },
  {
   "cell_type": "code",
   "execution_count": null,
   "metadata": {},
   "outputs": [],
   "source": [
    "g1TdWW_arr=[]\n",
    "for i in range(len(xarr)): g1TdWW_arr.append([xarr[i],g1Td_WW_mean_DSSV[i],g1Td_WW_std_DSSV[i]])\n",
    "dfg1TdWW = pd.DataFrame(g1TdWW_arr,columns=['x','g1TWW_mean','g1TWW_std'])\n",
    "writer = pd.ExcelWriter('g1TWW_data_DSSV/g1TdWW_DSSV.xlsx', engine='xlsxwriter')\n",
    "dfg1TuWW.to_excel(writer,index=False)\n",
    "writer.save()"
   ]
  }
 ],
 "metadata": {
  "kernelspec": {
   "display_name": "Python 3",
   "language": "python",
   "name": "python3"
  },
  "language_info": {
   "codemirror_mode": {
    "name": "ipython",
    "version": 3
   },
   "file_extension": ".py",
   "mimetype": "text/x-python",
   "name": "python",
   "nbconvert_exporter": "python",
   "pygments_lexer": "ipython3",
   "version": "3.8.6"
  }
 },
 "nbformat": 4,
 "nbformat_minor": 4
}
