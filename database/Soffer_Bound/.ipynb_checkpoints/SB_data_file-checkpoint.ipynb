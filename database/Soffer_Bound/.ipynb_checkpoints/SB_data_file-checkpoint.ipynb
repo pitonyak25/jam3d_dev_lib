{
 "cells": [
  {
   "cell_type": "code",
   "execution_count": 1,
   "metadata": {},
   "outputs": [
    {
     "name": "stderr",
     "output_type": "stream",
     "text": [
      "Matplotlib created a temporary config/cache directory at /tmp/matplotlib-ez08egdy because the default path (/home/jovyan/.cache/matplotlib) is not a writable directory; it is highly recommended to set the MPLCONFIGDIR environment variable to a writable directory, in particular to speed up the import of Matplotlib and to better support multiprocessing.\n"
     ]
    }
   ],
   "source": [
    "import sys\n",
    "sys.path.append('/w/jam-sciwork18/pitonyak/jam3d_dev')\n",
    "import os\n",
    "os.environ[\"JAM3D\"] = \"/w/jam-sciwork18/pitonyak/jam3d_dev\"\n",
    "import numpy as np\n",
    "import pandas as pd\n",
    "from tools.tools import load,save,checkdir,lprint\n",
    "from qcdlib.core import CORE\n",
    "from qcdlib.aux import AUX\n",
    "from qcdlib.interpolator import INTERPOLATOR\n",
    "from tools.config import conf\n",
    "from pdf0_SB import PDF\n",
    "from ppdf0_SB import PPDF\n",
    "import matplotlib.pyplot as plt\n",
    "\n",
    "conf['aux'] = AUX()"
   ]
  },
  {
   "cell_type": "code",
   "execution_count": 2,
   "metadata": {},
   "outputs": [],
   "source": [
    "# pdf_files=[]\n",
    "# for i in range(1,201):\n",
    "#     if i < 10: pdf_files.append('JAM22-PDF_proton_nlo_000'+'%s'%i)\n",
    "#     elif i >=10 and i < 100: pdf_files.append('JAM22-PDF_proton_nlo_00'+'%s'%i)\n",
    "#     elif i >=100: pdf_files.append('JAM22-PDF_proton_nlo_0'+'%s'%i)\n",
    "\n",
    "# pdf_files=[]\n",
    "# for i in range(1,49):\n",
    "#     if i < 10: pdf_files.append('CJ15lo_000'+'%s'%i)\n",
    "#     elif i >=10: pdf_files.append('CJ15lo_00'+'%s'%i)\n",
    "\n",
    "# ppdf_files=[]\n",
    "# for i in range(1,101):\n",
    "#     if i < 10: ppdf_files.append('NNPDFpol11_100_000'+'%s'%i)\n",
    "#     elif i >=10 and i < 100: ppdf_files.append('NNPDFpol11_100_00'+'%s'%i)\n",
    "#     elif i >=100: ppdf_files.append('NNPDFpol11_100_0'+'%s'%i)\n",
    "        \n",
    "# ppdf_files=[]\n",
    "# for i in range(1,201):\n",
    "#     if i < 10: ppdf_files.append('JAM17_PPDF_nlo_000'+'%s'%i)\n",
    "#     elif i >=10 and i < 100: ppdf_files.append('JAM17_PPDF_nlo_00'+'%s'%i)\n",
    "#     elif i >=100: ppdf_files.append('JAM17_PPDF_nlo_0'+'%s'%i)\n",
    "\n",
    "# ppdf_files=[]\n",
    "# for i in range(1,201):\n",
    "#     if i < 10: ppdf_files.append('JAM22-PPDF_proton_nlo_000'+'%s'%i)\n",
    "#     elif i >=10 and i < 100: ppdf_files.append('JAM22-PPDF_proton_nlo_00'+'%s'%i)\n",
    "#     elif i >=100: ppdf_files.append('JAM22-PPDF_proton_nlo_0'+'%s'%i)\n",
    "        \n",
    "files=[]\n",
    "for i in range(1,984):\n",
    "    if i < 10: files.append('_proton_nlo_000'+'%s'%i)\n",
    "    elif i >=10 and i < 100: files.append('_proton_nlo_00'+'%s'%i)\n",
    "    elif i >=100: files.append('_proton_nlo_0'+'%s'%i)"
   ]
  },
  {
   "cell_type": "markdown",
   "metadata": {},
   "source": [
    "## Generating data files for f1 and g1"
   ]
  },
  {
   "cell_type": "code",
   "execution_count": 3,
   "metadata": {},
   "outputs": [
    {
     "name": "stdout",
     "output_type": "stream",
     "text": [
      "[0.01       0.01211528 0.01467799 0.01778279 0.02154435 0.02610157\n",
      " 0.03162278 0.03831187 0.04641589 0.05623413 0.06812921 0.08254042\n",
      " 0.1        0.12115277 0.14677993 0.17782794 0.21544347 0.26101572\n",
      " 0.31622777 0.38311868 0.46415888 0.56234133 0.68129207 0.82540419\n",
      " 1.        ]\n",
      "[2.0]\n"
     ]
    }
   ],
   "source": [
    "xarr=10**np.linspace(-2,0,25)\n",
    "print(xarr)\n",
    "# xarr=np.linspace(0.01,1,10)\n",
    "# print(xarr)\n",
    "Q2arr=[2.0] #np.linspace(2.0,50,25)\n",
    "print(Q2arr)\n",
    "\n",
    "for Q2 in Q2arr:\n",
    "    pdfu_mean=[]\n",
    "    pdfu_std=[]\n",
    "    for x in xarr:\n",
    "        pdfu=[]\n",
    "        for f in files:\n",
    "            conf['pdf']  = PDF('p','/JAM22-PDF_proton_nlo/JAM22-PDF%s'%f)\n",
    "            pdfu.append(conf['pdf'].get_C(x, Q2)[1])\n",
    "        pdfu_mean.append(np.mean(pdfu))\n",
    "        pdfu_std.append(np.std(pdfu))\n",
    "        \n",
    "    pdfu_mean = np.array(pdfu_mean)\n",
    "    pdfu_std = np.array(pdfu_std)\n",
    "    \n",
    "    save([Q2,pdfu_mean,pdfu_std],'f1_data/pdfu_Q2_%s.dat'%int(Q2))"
   ]
  },
  {
   "cell_type": "code",
   "execution_count": 4,
   "metadata": {},
   "outputs": [
    {
     "data": {
      "image/png": "[encoded data removed]",
      "text/plain": [
       "<Figure size 432x288 with 1 Axes>"
      ]
     },
     "metadata": {
      "needs_background": "light"
     },
     "output_type": "display_data"
    }
   ],
   "source": [
    "Q2=2.0\n",
    "pdfu_mean=load('f1_data/pdfu_Q2_%s.dat'%int(Q2))[1]\n",
    "pdfu_std=load('f1_data/pdfu_Q2_%s.dat'%int(Q2))[2]\n",
    "\n",
    "plt.figure()\n",
    "plt.plot(xarr,xarr*pdfu_mean)\n",
    "plt.fill_between(xarr,xarr*(pdfu_mean+pdfu_std),xarr*(pdfu_mean-pdfu_std),color='green',alpha=0.5)\n",
    "plt.show()"
   ]
  },
  {
   "cell_type": "code",
   "execution_count": 5,
   "metadata": {},
   "outputs": [
    {
     "name": "stdout",
     "output_type": "stream",
     "text": [
      "[0.01       0.01211528 0.01467799 0.01778279 0.02154435 0.02610157\n",
      " 0.03162278 0.03831187 0.04641589 0.05623413 0.06812921 0.08254042\n",
      " 0.1        0.12115277 0.14677993 0.17782794 0.21544347 0.26101572\n",
      " 0.31622777 0.38311868 0.46415888 0.56234133 0.68129207 0.82540419\n",
      " 1.        ]\n",
      "[2.0]\n"
     ]
    }
   ],
   "source": [
    "xarr=10**np.linspace(-2,0,25)\n",
    "print(xarr)\n",
    "# xarr=np.linspace(0.01,1,10)\n",
    "# print(xarr)\n",
    "Q2arr=[2.0] #np.linspace(2.0,50,25)\n",
    "print(Q2arr)\n",
    "\n",
    "for Q2 in Q2arr:\n",
    "    pdfd_mean=[]\n",
    "    pdfd_std=[]\n",
    "    for x in xarr:\n",
    "        pdfd=[]\n",
    "        for f in files:\n",
    "            conf['pdf']  = PDF('p','/JAM22-PDF_proton_nlo/JAM22-PDF%s'%f)\n",
    "            pdfd.append(conf['pdf'].get_C(x, Q2)[3])\n",
    "        pdfd_mean.append(np.mean(pdfd))\n",
    "        pdfd_std.append(np.std(pdfd))\n",
    "        \n",
    "    pdfd_mean = np.array(pdfd_mean)\n",
    "    pdfd_std = np.array(pdfd_std)\n",
    "    \n",
    "    save([Q2,pdfd_mean,pdfd_std],'f1_data/pdfd_Q2_%s.dat'%int(Q2))"
   ]
  },
  {
   "cell_type": "code",
   "execution_count": 6,
   "metadata": {},
   "outputs": [
    {
     "data": {
      "image/png": "[encoded data removed]",
      "text/plain": [
       "<Figure size 432x288 with 1 Axes>"
      ]
     },
     "metadata": {
      "needs_background": "light"
     },
     "output_type": "display_data"
    }
   ],
   "source": [
    "Q2=2.0\n",
    "pdfd_mean=load('f1_data/pdfd_Q2_%s.dat'%int(Q2))[1]\n",
    "pdfd_std=load('f1_data/pdfd_Q2_%s.dat'%int(Q2))[2]\n",
    "\n",
    "plt.figure()\n",
    "plt.plot(xarr,xarr*pdfd_mean)\n",
    "plt.fill_between(xarr,xarr*(pdfd_mean+pdfd_std),xarr*(pdfd_mean-pdfd_std),color='green',alpha=0.5)\n",
    "plt.show()"
   ]
  },
  {
   "cell_type": "code",
   "execution_count": 9,
   "metadata": {},
   "outputs": [
    {
     "name": "stdout",
     "output_type": "stream",
     "text": [
      "[0.01       0.01211528 0.01467799 0.01778279 0.02154435 0.02610157\n",
      " 0.03162278 0.03831187 0.04641589 0.05623413 0.06812921 0.08254042\n",
      " 0.1        0.12115277 0.14677993 0.17782794 0.21544347 0.26101572\n",
      " 0.31622777 0.38311868 0.46415888 0.56234133 0.68129207 0.82540419\n",
      " 1.        ]\n",
      "[2.0]\n"
     ]
    }
   ],
   "source": [
    "xarr=10**np.linspace(-2,0,25)\n",
    "print(xarr)\n",
    "# xarr=np.linspace(0.01,1,10)\n",
    "# print(xarr)\n",
    "Q2arr=[2.0] #np.linspace(2.0,50,25)\n",
    "print(Q2arr)\n",
    "\n",
    "for Q2 in Q2arr:\n",
    "    ppdfu_mean=[]\n",
    "    ppdfu_std=[]\n",
    "    for x in xarr:\n",
    "        ppdfu=[]\n",
    "        for f in files:\n",
    "            conf['ppdf']  = PDF('p','JAM22-PPDF_proton_nlo/JAM22-PPDF%s'%f)\n",
    "            ppdfu.append(conf['ppdf'].get_C(x, Q2)[1])\n",
    "        ppdfu_mean.append(np.mean(ppdfu))\n",
    "        ppdfu_std.append(np.std(ppdfu))\n",
    "        \n",
    "    ppdfu_mean = np.array(ppdfu_mean)\n",
    "    ppdfu_std = np.array(ppdfu_std)\n",
    "    \n",
    "    save([Q2,ppdfu_mean,ppdfu_std],'g1_data/ppdfu_Q2_%s.dat'%int(Q2))"
   ]
  },
  {
   "cell_type": "code",
   "execution_count": 10,
   "metadata": {},
   "outputs": [
    {
     "data": {
      "image/png": "[encoded data removed]",
      "text/plain": [
       "<Figure size 432x288 with 1 Axes>"
      ]
     },
     "metadata": {
      "needs_background": "light"
     },
     "output_type": "display_data"
    }
   ],
   "source": [
    "Q2=2.0\n",
    "ppdfu_mean=load('g1_data/ppdfu_Q2_%s.dat'%int(Q2))[1]\n",
    "ppdfu_std=load('g1_data/ppdfu_Q2_%s.dat'%int(Q2))[2]\n",
    "\n",
    "plt.figure()\n",
    "plt.plot(xarr,xarr*ppdfu_mean)\n",
    "plt.fill_between(xarr,xarr*(ppdfu_mean+ppdfu_std),xarr*(ppdfu_mean-ppdfu_std),color='green',alpha=0.5)\n",
    "plt.show()"
   ]
  },
  {
   "cell_type": "code",
   "execution_count": null,
   "metadata": {},
   "outputs": [
    {
     "name": "stdout",
     "output_type": "stream",
     "text": [
      "[0.01       0.01211528 0.01467799 0.01778279 0.02154435 0.02610157\n",
      " 0.03162278 0.03831187 0.04641589 0.05623413 0.06812921 0.08254042\n",
      " 0.1        0.12115277 0.14677993 0.17782794 0.21544347 0.26101572\n",
      " 0.31622777 0.38311868 0.46415888 0.56234133 0.68129207 0.82540419\n",
      " 1.        ]\n",
      "[2.0]\n"
     ]
    }
   ],
   "source": [
    "xarr=10**np.linspace(-2,0,25)\n",
    "print(xarr)\n",
    "# xarr=np.linspace(0.01,1,10)\n",
    "# print(xarr)\n",
    "Q2arr=[2.0] #np.linspace(2.0,50,25)\n",
    "print(Q2arr)\n",
    "\n",
    "for Q2 in Q2arr:\n",
    "    ppdfd_mean=[]\n",
    "    ppdfd_std=[]\n",
    "    for x in xarr:\n",
    "        ppdfd=[]\n",
    "        for f in files:\n",
    "            conf['ppdf']  = PDF('p','JAM22-PPDF_proton_nlo/JAM22-PPDF%s'%f)\n",
    "            ppdfd.append(conf['ppdf'].get_C(x, Q2)[3])\n",
    "        ppdfd_mean.append(np.mean(ppdfd))\n",
    "        ppdfd_std.append(np.std(ppdfd))\n",
    "        \n",
    "    ppdfd_mean = np.array(ppdfd_mean)\n",
    "    ppdfd_std = np.array(ppdfd_std)\n",
    "    \n",
    "    save([Q2,ppdfd_mean,ppdfd_std],'g1_data/ppdfd_Q2_%d.dat'%int(Q2))"
   ]
  },
  {
   "cell_type": "code",
   "execution_count": null,
   "metadata": {},
   "outputs": [],
   "source": [
    "Q2=2.0\n",
    "ppdfd_mean=load('g1_data/ppdfd_Q2_%d.dat'%int(Q2))[1]\n",
    "ppdfd_std=load('g1_data/ppdfd_Q2_%d.dat'%int(Q2))[2]\n",
    "\n",
    "plt.figure()\n",
    "plt.plot(xarr,xarr*ppdfd_mean)\n",
    "plt.fill_between(xarr,xarr*(ppdfd_mean+ppdfd_std),xarr*(ppdfd_mean-ppdfd_std),color='green',alpha=0.5)\n",
    "plt.show()"
   ]
  },
  {
   "cell_type": "markdown",
   "metadata": {},
   "source": [
    "## Generating data for Soffer Bound"
   ]
  },
  {
   "cell_type": "code",
   "execution_count": null,
   "metadata": {},
   "outputs": [],
   "source": [
    "for Q2 in Q2arr:\n",
    "    SBu_mean=[]\n",
    "    SBu_std=[]\n",
    "    for x in xarr:\n",
    "        SBu=[]\n",
    "        for f in files:\n",
    "            conf['pdf']  = PDF('p','/JAM22-PDF_proton_nlo/JAM22-PDF%s'%f)\n",
    "            conf['ppdf']  = PDF('p','/JAM22-PPDF_proton_nlo/JAM22-PPDF%s'%f)\n",
    "            SBu.append(0.5*(conf['pdf'].get_C(x, Q2)[1]+conf['ppdf'].get_C(x, Q2)[1]))\n",
    "        SBu_mean.append(np.mean(SBu))\n",
    "        SBu_std.append(np.std(SBu))\n",
    "        \n",
    "    SBu_mean = np.array(SBu_mean)\n",
    "    SBu_std = np.array(SBu_std)\n",
    "    \n",
    "    save([Q2,SBu_mean,SBu_std],'SB_data/SBu_Q2_%s.dat'%int(Q2))\n",
    "\n",
    "# xarr=10**np.linspace(-2,0,25)\n",
    "# print(xarr)\n",
    "# # xarr=np.linspace(0.01,1,10)\n",
    "# # print(xarr)\n",
    "# Q2arr=[2.0] #np.linspace(2.0,50,25)\n",
    "# print(Q2arr)\n",
    "\n",
    "\n",
    "# for Q2 in Q2arr:\n",
    "#     pdfu_mean=load('f1_data/pdfu_Q2_%s.dat'%int(Q2))[1]\n",
    "#     pdfu_std=load('f1_data/pdfu_Q2_%s.dat'%int(Q2))[2]\n",
    "#     ppdfu_mean=load('g1_data/ppdfu_Q2_%s.dat'%int(Q2))[1]\n",
    "#     ppdfu_std=load('g1_data/ppdfu_Q2_%s.dat'%int(Q2))[2]\n",
    "    \n",
    "#     SBu_mean = 0.5*(pdfu_mean + ppdfu_mean)\n",
    "#     SBu_std = np.sqrt((0.5*pdfu_std)**2 + (0.5*ppdfu_std)**2)\n",
    "    \n",
    "#     save([Q2,SBu_mean,SBu_std],'SB_data/SBu_Q2_%s.dat'%int(Q2))"
   ]
  },
  {
   "cell_type": "code",
   "execution_count": null,
   "metadata": {},
   "outputs": [],
   "source": [
    "Q2=2.0\n",
    "SBu_mean=load('SB_data/SBu_Q2_%s.dat'%int(Q2))[1]\n",
    "SBu_std=load('SB_data/SBu_Q2_%s.dat'%int(Q2))[2]\n",
    "\n",
    "plt.figure()\n",
    "plt.plot(xarr,xarr*SBu_mean)\n",
    "plt.fill_between(xarr,xarr*(SBu_mean+SBu_std),xarr*(SBu_mean-SBu_std),color='green',alpha=0.5)\n",
    "plt.show()"
   ]
  },
  {
   "cell_type": "code",
   "execution_count": null,
   "metadata": {},
   "outputs": [],
   "source": [
    "for Q2 in Q2arr:\n",
    "    SBd_mean=[]\n",
    "    SBd_std=[]\n",
    "    for x in xarr:\n",
    "        SBd=[]\n",
    "        for f in files:\n",
    "            conf['pdf']  = PDF('p','/JAM22-PDF_proton_nlo/JAM22-PDF%s'%f)\n",
    "            conf['ppdf']  = PDF('p','/JAM22-PPDF_proton_nlo/JAM22-PPDF%s'%f)\n",
    "            SBd.append(0.5*(conf['pdf'].get_C(x, Q2)[3]+conf['ppdf'].get_C(x, Q2)[3]))\n",
    "        SBd_mean.append(np.mean(SBd))\n",
    "        SBd_std.append(np.std(SBd))\n",
    "        \n",
    "    SBd_mean = np.array(SBd_mean)\n",
    "    SBd_std = np.array(SBd_std)\n",
    "    \n",
    "    save([Q2,SBd_mean,SBd_std],'SB_data/SBd_Q2_%s.dat'%int(Q2))\n",
    "\n",
    "# xarr=10**np.linspace(-2,0,25)\n",
    "# print(xarr)\n",
    "# # xarr=np.linspace(0.01,1,10)\n",
    "# # print(xarr)\n",
    "# Q2arr=[2.0] #np.linspace(2.0,50,25)\n",
    "# print(Q2arr)\n",
    "\n",
    "# for Q2 in Q2arr:\n",
    "#     pdfd_mean=load('f1_data/pdfd_Q2_%s.dat'%int(Q2))[1]\n",
    "#     pdfd_std=load('f1_data/pdfd_Q2_%s.dat'%int(Q2))[2]\n",
    "#     ppdfd_mean=load('g1_data/ppdfd_Q2_%s.dat'%int(Q2))[1]\n",
    "#     ppdfd_std=load('g1_data/ppdfd_Q2_%s.dat'%int(Q2))[2]\n",
    "    \n",
    "#     SBd_mean = 0.5*(pdfd_mean + ppdfd_mean)\n",
    "#     SBd_std = np.sqrt((0.5*pdfd_std)**2 + (0.5*ppdfd_std)**2)\n",
    "    \n",
    "#     save([Q2,SBd_mean,SBd_std],'SB_data/SBd_Q2_%s.dat'%int(Q2))"
   ]
  },
  {
   "cell_type": "code",
   "execution_count": null,
   "metadata": {},
   "outputs": [],
   "source": [
    "Q2=2\n",
    "SBd_mean=load('SB_data/SBd_Q2_%s.dat'%int(Q2))[1]\n",
    "SBd_std=load('SB_data/SBd_Q2_%s.dat'%int(Q2))[2]\n",
    "\n",
    "plt.figure()\n",
    "plt.plot(xarr,xarr*SBd_mean)\n",
    "plt.fill_between(xarr,xarr*(SBd_mean+SBd_std),xarr*(SBd_mean-SBd_std),color='green',alpha=0.5)\n",
    "plt.show()"
   ]
  },
  {
   "cell_type": "code",
   "execution_count": null,
   "metadata": {},
   "outputs": [],
   "source": [
    "xarr=10**np.linspace(-2,0,25)\n",
    "print(xarr)\n",
    "# xarr=np.linspace(0.01,1,10)\n",
    "# print(xarr)\n",
    "Q2arr=[2.0] #np.linspace(2.0,50,25)\n",
    "print(Q2arr)\n",
    "\n",
    "SBu_mean_arr=np.array([load('SB_data/SBu_Q2_%d.dat'%Q2)[1] for Q2 in Q2arr]).flatten()\n",
    "SBd_mean_arr=np.array([load('SB_data/SBd_Q2_%d.dat'%Q2)[1] for Q2 in Q2arr]).flatten()\n",
    "SBu_std_arr=np.array([load('SB_data/SBu_Q2_%d.dat'%Q2)[2] for Q2 in Q2arr]).flatten()\n",
    "SBd_std_arr=np.array([load('SB_data/SBd_Q2_%d.dat'%Q2)[2] for Q2 in Q2arr]).flatten()\n",
    "\n",
    "SBQ2_arr=[Q2 for Q2 in Q2arr for x in xarr]\n",
    "SBx_arr=[x for Q2 in Q2arr for x in xarr]"
   ]
  },
  {
   "cell_type": "code",
   "execution_count": null,
   "metadata": {},
   "outputs": [],
   "source": [
    "SBu_arr=[]\n",
    "for i in range(len(SBx_arr)): SBu_arr.append([SBx_arr[i],SBQ2_arr[i],SBu_mean_arr[i],SBu_std_arr[i],0.0,'SBu'])\n",
    "dfSBu = pd.DataFrame(SBu_arr,columns=['x','Q2','value','stat_err_u','sys_err_u','obs'])\n",
    "writer = pd.ExcelWriter('expdata/1000.xlsx', engine='xlsxwriter')\n",
    "dfSBu.to_excel(writer,index=False)\n",
    "writer.save()"
   ]
  },
  {
   "cell_type": "code",
   "execution_count": null,
   "metadata": {},
   "outputs": [],
   "source": [
    "SBd_arr=[]\n",
    "for i in range(len(SBx_arr)): SBd_arr.append([SBx_arr[i],SBQ2_arr[i],SBd_mean_arr[i],SBd_std_arr[i],0.0,'SBd'])\n",
    "dfSBd = pd.DataFrame(SBd_arr,columns=['x','Q2','value','stat_err_u','sys_err_u','obs'])\n",
    "writer = pd.ExcelWriter('expdata/2000.xlsx', engine='xlsxwriter')\n",
    "dfSBd.to_excel(writer,index=False)\n",
    "writer.save()"
   ]
  },
  {
   "cell_type": "code",
   "execution_count": null,
   "metadata": {},
   "outputs": [],
   "source": []
  }
 ],
 "metadata": {
  "kernelspec": {
   "display_name": "Python 3",
   "language": "python",
   "name": "python3"
  },
  "language_info": {
   "codemirror_mode": {
    "name": "ipython",
    "version": 3
   },
   "file_extension": ".py",
   "mimetype": "text/x-python",
   "name": "python",
   "nbconvert_exporter": "python",
   "pygments_lexer": "ipython3",
   "version": "3.8.6"
  }
 },
 "nbformat": 4,
 "nbformat_minor": 4
}
