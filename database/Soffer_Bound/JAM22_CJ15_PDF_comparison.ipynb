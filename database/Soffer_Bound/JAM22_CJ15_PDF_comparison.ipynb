{
 "cells": [
  {
   "cell_type": "code",
   "execution_count": 1,
   "metadata": {},
   "outputs": [
    {
     "name": "stderr",
     "output_type": "stream",
     "text": [
      "Matplotlib created a temporary config/cache directory at /tmp/matplotlib-qdkrcbv_ because the default path (/home/jovyan/.cache/matplotlib) is not a writable directory; it is highly recommended to set the MPLCONFIGDIR environment variable to a writable directory, in particular to speed up the import of Matplotlib and to better support multiprocessing.\n"
     ]
    }
   ],
   "source": [
    "import sys\n",
    "sys.path.append('/w/jam-sciwork18/pitonyak/jam3d_dev')\n",
    "import os\n",
    "os.environ[\"JAM3D\"] = \"/w/jam-sciwork18/pitonyak/jam3d_dev\"\n",
    "import numpy as np\n",
    "import pandas as pd\n",
    "from tools.tools import load,save,checkdir,lprint\n",
    "from qcdlib.core import CORE\n",
    "from qcdlib.aux import AUX\n",
    "from qcdlib.interpolator import INTERPOLATOR\n",
    "from tools.config import conf\n",
    "from pdf0_SB import PDF\n",
    "from ppdf0_SB import PPDF\n",
    "import matplotlib.pyplot as plt\n",
    "\n",
    "conf['aux'] = AUX()"
   ]
  },
  {
   "cell_type": "code",
   "execution_count": 3,
   "metadata": {},
   "outputs": [],
   "source": [
    "pdf_files_JAM22=[]\n",
    "for i in range(1,201):\n",
    "    if i < 10: pdf_files_JAM22.append('JAM22-PDF_proton_nlo_000'+'%s'%i)\n",
    "    elif i >=10 and i < 100: pdf_files_JAM22.append('JAM22-PDF_proton_nlo_00'+'%s'%i)\n",
    "    elif i >=100: pdf_files_JAM22.append('JAM22-PDF_proton_nlo_0'+'%s'%i)\n",
    "\n",
    "pdf_files_CJ15=[]\n",
    "for i in range(1,49):\n",
    "    if i < 10: pdf_files_CJ15.append('CJ15lo_000'+'%s'%i)\n",
    "    elif i >=10: pdf_files_CJ15.append('CJ15lo_00'+'%s'%i)\n",
    "\n",
    "# ppdf_files=[]\n",
    "# for i in range(1,101):\n",
    "#     if i < 10: ppdf_files.append('NNPDFpol11_100_000'+'%s'%i)\n",
    "#     elif i >=10 and i < 100: ppdf_files.append('NNPDFpol11_100_00'+'%s'%i)\n",
    "#     elif i >=100: ppdf_files.append('NNPDFpol11_100_0'+'%s'%i)\n",
    "        \n",
    "# ppdf_files=[]\n",
    "# for i in range(1,201):\n",
    "#     if i < 10: ppdf_files.append('JAM17_PPDF_nlo_000'+'%s'%i)\n",
    "#     elif i >=10 and i < 100: ppdf_files.append('JAM17_PPDF_nlo_00'+'%s'%i)\n",
    "#     elif i >=100: ppdf_files.append('JAM17_PPDF_nlo_0'+'%s'%i)\n",
    "\n",
    "# ppdf_files=[]\n",
    "# for i in range(1,201):\n",
    "#     if i < 10: ppdf_files.append('JAM22-PPDF_proton_nlo_000'+'%s'%i)\n",
    "#     elif i >=10 and i < 100: ppdf_files.append('JAM22-PPDF_proton_nlo_00'+'%s'%i)\n",
    "#     elif i >=100: ppdf_files.append('JAM22-PPDF_proton_nlo_0'+'%s'%i)\n"
   ]
  },
  {
   "cell_type": "markdown",
   "metadata": {},
   "source": [
    "## Generating data files for f1"
   ]
  },
  {
   "cell_type": "code",
   "execution_count": 16,
   "metadata": {},
   "outputs": [
    {
     "name": "stdout",
     "output_type": "stream",
     "text": [
      "[0.01       0.01211528 0.01467799 0.01778279 0.02154435 0.02610157\n",
      " 0.03162278 0.03831187 0.04641589 0.05623413 0.06812921 0.08254042\n",
      " 0.1        0.12115277 0.14677993 0.17782794 0.21544347 0.26101572\n",
      " 0.31622777 0.38311868 0.46415888 0.56234133 0.68129207 0.82540419\n",
      " 1.        ]\n",
      "[2.0]\n"
     ]
    }
   ],
   "source": [
    "xarr=10**np.linspace(-2,0,25)\n",
    "print(xarr)\n",
    "# xarr=np.linspace(0.01,1,10)\n",
    "# print(xarr)\n",
    "Q2arr=[2.0] #np.linspace(2.0,50,25)\n",
    "print(Q2arr)\n",
    "\n",
    "for Q2 in Q2arr:\n",
    "    pdfu_mean=[]\n",
    "    pdfu_std=[]\n",
    "    for x in xarr:\n",
    "        pdfu=[]\n",
    "        for f in pdf_files_CJ15:\n",
    "            conf['pdf']  = PDF('p','/CJ15lo/%s'%f)\n",
    "            pdfu.append(conf['pdf'].get_C(x, Q2)[1])\n",
    "        pdfu_mean.append(np.mean(pdfu))\n",
    "        pdfu_std.append(np.std(pdfu))\n",
    "        \n",
    "    pdfu_mean = np.array(pdfu_mean)\n",
    "    pdfu_std = np.array(pdfu_std)\n",
    "    \n",
    "    save([Q2,pdfu_mean,pdfu_std],'f1_data_CJ15/pdfu_Q2_%s.dat'%int(Q2))\n",
    "    \n",
    "for Q2 in Q2arr:\n",
    "    pdfu_mean=[]\n",
    "    pdfu_std=[]\n",
    "    for x in xarr:\n",
    "        pdfu=[]\n",
    "        for f in pdf_files_JAM22:\n",
    "            conf['pdf']  = PDF('p','/JAM22-PDF_proton_nlo/%s'%f)\n",
    "            pdfu.append(conf['pdf'].get_C(x, Q2)[1])\n",
    "        pdfu_mean.append(np.mean(pdfu))\n",
    "        pdfu_std.append(np.std(pdfu))\n",
    "        \n",
    "    pdfu_mean = np.array(pdfu_mean)\n",
    "    pdfu_std = np.array(pdfu_std)\n",
    "    \n",
    "    save([Q2,pdfu_mean,pdfu_std],'f1_data_JAM22/pdfu_Q2_%s.dat'%int(Q2))"
   ]
  },
  {
   "cell_type": "code",
   "execution_count": 24,
   "metadata": {},
   "outputs": [
    {
     "data": {
      "image/png": "[encoded data removed]",
      "text/plain": [
       "<Figure size 432x288 with 1 Axes>"
      ]
     },
     "metadata": {
      "needs_background": "light"
     },
     "output_type": "display_data"
    }
   ],
   "source": [
    "Q2=2.0\n",
    "pdfu_mean_CJ15=load('f1_data_CJ15/pdfu_Q2_%s.dat'%int(Q2))[1]\n",
    "pdfu_std_CJ15=load('f1_data_CJ15/pdfu_Q2_%s.dat'%int(Q2))[2]\n",
    "\n",
    "pdfu_mean_JAM22=load('f1_data_JAM22/pdfu_Q2_%s.dat'%int(Q2))[1]\n",
    "pdfu_std_JAM22=load('f1_data_JAM22/pdfu_Q2_%s.dat'%int(Q2))[2]\n",
    "\n",
    "plt.figure()\n",
    "plt.plot(xarr,xarr*pdfu_mean_CJ15,color='green')\n",
    "plt.plot(xarr,xarr*pdfu_mean_JAM22,color='red')\n",
    "plt.legend(['CJ15lo','JAM22 NLO'])\n",
    "plt.fill_between(xarr,xarr*(pdfu_mean_CJ15+pdfu_std_CJ15),xarr*(pdfu_mean_CJ15-pdfu_std_CJ15),color='green',alpha=0.3)\n",
    "plt.fill_between(xarr,xarr*(pdfu_mean_JAM22+pdfu_std_JAM22),xarr*(pdfu_mean_JAM22-pdfu_std_JAM22),color='red',alpha=0.3)\n",
    "plt.title('f1 up')\n",
    "plt.show()"
   ]
  },
  {
   "cell_type": "code",
   "execution_count": 18,
   "metadata": {},
   "outputs": [
    {
     "name": "stdout",
     "output_type": "stream",
     "text": [
      "[0.01       0.01211528 0.01467799 0.01778279 0.02154435 0.02610157\n",
      " 0.03162278 0.03831187 0.04641589 0.05623413 0.06812921 0.08254042\n",
      " 0.1        0.12115277 0.14677993 0.17782794 0.21544347 0.26101572\n",
      " 0.31622777 0.38311868 0.46415888 0.56234133 0.68129207 0.82540419\n",
      " 1.        ]\n",
      "[2.0]\n"
     ]
    }
   ],
   "source": [
    "xarr=10**np.linspace(-2,0,25)\n",
    "print(xarr)\n",
    "# xarr=np.linspace(0.01,1,10)\n",
    "# print(xarr)\n",
    "Q2arr=[2.0] #np.linspace(2.0,50,25)\n",
    "print(Q2arr)\n",
    "\n",
    "for Q2 in Q2arr:\n",
    "    pdfd_mean=[]\n",
    "    pdfd_std=[]\n",
    "    for x in xarr:\n",
    "        pdfd=[]\n",
    "        for f in pdf_files_CJ15:\n",
    "            conf['pdf']  = PDF('p','/CJ15lo/%s'%f)\n",
    "            pdfd.append(conf['pdf'].get_C(x, Q2)[3])\n",
    "        pdfd_mean.append(np.mean(pdfd))\n",
    "        pdfd_std.append(np.std(pdfd))\n",
    "        \n",
    "    pdfd_mean = np.array(pdfd_mean)\n",
    "    pdfd_std = np.array(pdfd_std)\n",
    "    \n",
    "    save([Q2,pdfd_mean,pdfd_std],'f1_data_CJ15/pdfd_Q2_%s.dat'%int(Q2))\n",
    "    \n",
    "for Q2 in Q2arr:\n",
    "    pdfd_mean=[]\n",
    "    pdfd_std=[]\n",
    "    for x in xarr:\n",
    "        pdfd=[]\n",
    "        for f in pdf_files_JAM22:\n",
    "            conf['pdf']  = PDF('p','/JAM22-PDF_proton_nlo/%s'%f)\n",
    "            pdfd.append(conf['pdf'].get_C(x, Q2)[3])\n",
    "        pdfd_mean.append(np.mean(pdfd))\n",
    "        pdfd_std.append(np.std(pdfd))\n",
    "        \n",
    "    pdfd_mean = np.array(pdfd_mean)\n",
    "    pdfd_std = np.array(pdfd_std)\n",
    "    \n",
    "    save([Q2,pdfd_mean,pdfd_std],'f1_data_JAM22/pdfd_Q2_%s.dat'%int(Q2))"
   ]
  },
  {
   "cell_type": "code",
   "execution_count": 22,
   "metadata": {},
   "outputs": [
    {
     "data": {
      "image/png": "[encoded data removed]",
      "text/plain": [
       "<Figure size 432x288 with 1 Axes>"
      ]
     },
     "metadata": {
      "needs_background": "light"
     },
     "output_type": "display_data"
    }
   ],
   "source": [
    "Q2=2.0\n",
    "pdfd_mean_CJ15=load('f1_data_CJ15/pdfd_Q2_%s.dat'%int(Q2))[1]\n",
    "pdfd_std_CJ15=load('f1_data_CJ15/pdfd_Q2_%s.dat'%int(Q2))[2]\n",
    "\n",
    "pdfd_mean_JAM22=load('f1_data_JAM22/pdfd_Q2_%s.dat'%int(Q2))[1]\n",
    "pdfd_std_JAM22=load('f1_data_JAM22/pdfd_Q2_%s.dat'%int(Q2))[2]\n",
    "\n",
    "plt.figure()\n",
    "plt.plot(xarr,xarr*pdfd_mean_CJ15,color='green')\n",
    "plt.plot(xarr,xarr*pdfd_mean_JAM22,color='red')\n",
    "plt.legend(['CJ15lo','JAM22 NLO'])\n",
    "plt.fill_between(xarr,xarr*(pdfd_mean_CJ15+pdfd_std_CJ15),xarr*(pdfd_mean_CJ15-pdfd_std_CJ15),color='green',alpha=0.3)\n",
    "plt.fill_between(xarr,xarr*(pdfd_mean_JAM22+pdfd_std_JAM22),xarr*(pdfd_mean_JAM22-pdfd_std_JAM22),color='red',alpha=0.3)\n",
    "plt.title('f1 down')\n",
    "plt.show()"
   ]
  },
  {
   "cell_type": "code",
   "execution_count": null,
   "metadata": {},
   "outputs": [],
   "source": []
  }
 ],
 "metadata": {
  "kernelspec": {
   "display_name": "Python 3",
   "language": "python",
   "name": "python3"
  },
  "language_info": {
   "codemirror_mode": {
    "name": "ipython",
    "version": 3
   },
   "file_extension": ".py",
   "mimetype": "text/x-python",
   "name": "python",
   "nbconvert_exporter": "python",
   "pygments_lexer": "ipython3",
   "version": "3.8.6"
  }
 },
 "nbformat": 4,
 "nbformat_minor": 4
}
