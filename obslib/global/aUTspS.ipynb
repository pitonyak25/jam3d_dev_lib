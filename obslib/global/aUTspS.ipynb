{
 "cells": [
  {
   "cell_type": "markdown",
   "metadata": {},
   "source": [
    "# AUTsinphiS Analysis"
   ]
  },
  {
   "cell_type": "code",
   "execution_count": 1,
   "metadata": {
    "collapsed": true
   },
   "outputs": [],
   "source": [
    "import sys\n",
    "import os; #os.chdir('../')\n",
    "import itertools as it\n",
    "import numpy as np\n",
    "import pandas as pd\n",
    "import pylab as py\n",
    "import matplotlib.pyplot as plt\n",
    "from  matplotlib import rc\n",
    "from matplotlib.colors import LogNorm\n",
    "%matplotlib inline\n",
    "from tools.tools import save,load,lprint\n",
    "from tools.config import load_config, conf\n",
    "from tools.bar import BAR\n",
    "from fitlab.resman import RESMAN\n",
    "from fitlab.parman import PARMAN\n",
    "rc('font',**{'family':'sans-serif','sans-serif':['Helvetica']})\n",
    "rc('text',usetex=True)"
   ]
  },
  {
   "cell_type": "code",
   "execution_count": 2,
   "metadata": {},
   "outputs": [
    {
     "name": "stdout",
     "output_type": "stream",
     "text": [
      "loading sidis data sets 9022"
     ]
    }
   ],
   "source": [
    "load_config('input_aUTspS.py')\n",
    "conf['resman']=RESMAN()\n",
    "conf['parman']=PARMAN()\n",
    "conf['resman'].get_residuals(conf['parman'].par);"
   ]
  },
  {
   "cell_type": "markdown",
   "metadata": {},
   "source": [
    "## Load AUTsinphiS data from files"
   ]
  },
  {
   "cell_type": "code",
   "execution_count": 4,
   "metadata": {},
   "outputs": [
    {
     "data": {
      "text/plain": [
       "Index([          u'N',          u'Q2',       u'Shift',           u'W',\n",
       "                u'W2',       u'alpha',         u'col',  u'dependence',\n",
       "                u'dy',   u'er_stat_u',      u'hadron',         u'obs',\n",
       "                u'pT', u'r-residuals',   u'residuals',       u'shift',\n",
       "            u'target',         u'thy',       u'value',           u'x',\n",
       "                 u'y',          u'yh',          u'yp',           u'z'],\n",
       "      dtype='object')"
      ]
     },
     "execution_count": 4,
     "metadata": {},
     "output_type": "execute_result"
    }
   ],
   "source": [
    "ALL=pd.concat([pd.DataFrame(conf['resman'].sidisres.tabs[idx]) \\\n",
    "              for idx in conf['resman'].sidisres.tabs.keys()])\n",
    "\n",
    "ALL.columns"
   ]
  },
  {
   "cell_type": "markdown",
   "metadata": {},
   "source": [
    "## Organize data\n",
    "Organize data from different collaborations with different observables"
   ]
  },
  {
   "cell_type": "code",
   "execution_count": 5,
   "metadata": {},
   "outputs": [
    {
     "name": "stdout",
     "output_type": "stream",
     "text": [
      "Collaboration: compass, Observerable: AUTsinphiS, Points: 32\n"
     ]
    }
   ],
   "source": [
    "data = {}\n",
    "collaborations = np.unique(ALL.col)\n",
    "\n",
    "for collab in collaborations:\n",
    "    data[collab] = {}\n",
    "    \n",
    "    data_subset = ALL[ALL.col == collab]\n",
    "    observables = np.unique(data_subset.obs)\n",
    "    \n",
    "    for observable in observables:        \n",
    "        data[collab][observable] = data_subset[data_subset.obs == observable]        \n",
    "        print('Collaboration: %s, Observerable: %s, Points: %d' % (collab, observable, len(data[collab][observable])))"
   ]
  },
  {
   "cell_type": "markdown",
   "metadata": {},
   "source": [
    "## Plot results \n",
    "Plot the data vs. theory curves"
   ]
  },
  {
   "cell_type": "code",
   "execution_count": 6,
   "metadata": {
    "collapsed": true
   },
   "outputs": [],
   "source": [
    "data = {}\n",
    "\n",
    "for key, value in conf['resman'].sidisres.tabs.iteritems():\n",
    "    data[key] = pd.DataFrame(value)"
   ]
  },
  {
   "cell_type": "code",
   "execution_count": 7,
   "metadata": {
    "collapsed": true
   },
   "outputs": [],
   "source": [
    "plt.rc('font', family='serif')\n",
    "plt.rc('font', size=16)"
   ]
  },
  {
   "cell_type": "code",
   "execution_count": 9,
   "metadata": {},
   "outputs": [
    {
     "data": {
      "text/plain": [
       "Index([          u'N',          u'Q2',       u'Shift',           u'W',\n",
       "                u'W2',       u'alpha',         u'col',  u'dependence',\n",
       "                u'dy',   u'er_stat_u',      u'hadron',         u'obs',\n",
       "                u'pT', u'r-residuals',   u'residuals',       u'shift',\n",
       "            u'target',         u'thy',       u'value',           u'x',\n",
       "                 u'y',          u'yh',          u'yp',           u'z'],\n",
       "      dtype='object')"
      ]
     },
     "execution_count": 9,
     "metadata": {},
     "output_type": "execute_result"
    }
   ],
   "source": [
    "ALL=pd.concat([pd.DataFrame(conf['resman'].sidisres.tabs[idx]) \\\n",
    "              for idx in conf['resman'].sidisres.tabs.keys()])\n",
    "\n",
    "ALL.columns"
   ]
  },
  {
   "cell_type": "code",
   "execution_count": 10,
   "metadata": {
    "collapsed": true
   },
   "outputs": [],
   "source": [
    "def plotAUTsinphiS(data1,data2,data3,data4,label1='dataset 1',label2='dataset2',label3='dataset3',label4='dataset4'):\n",
    "\n",
    "    data = [data1,data2,data3,data4]\n",
    "    \n",
    "    plt.figure(figsize=(10,10))\n",
    "    \n",
    "    _label=label1\n",
    "    xlabel='$var$'\n",
    "    xlim = [0.1,0.8]\n",
    "    \n",
    "    for k in range(len(data)):\n",
    "    \n",
    "        \n",
    "    \n",
    "        data_sub = data[k]\n",
    "        \n",
    "        if k==0: \n",
    "            plt.subplot(2, 2, 1)\n",
    "            _label=label1\n",
    "            xlabel='$z$'\n",
    "            xlim=[0.0,0.8]\n",
    "            plt.errorbar(data_sub.z, data_sub.value, data_sub.alpha, \n",
    "                    marker='o', linestyle='', color='blue', label=_label)\n",
    "            plt.plot(data_sub.z, data_sub.thy, linestyle='-', color='blue')\n",
    "            data_sub = data[k+1]\n",
    "            _label=label2\n",
    "            #xlabel='$x$'\n",
    "            #xlim=[0.0,0.7]\n",
    "            plt.errorbar(data_sub.z, data_sub.value, data_sub.alpha, \n",
    "                    marker='o', linestyle='', color='red', label=_label)\n",
    "            plt.plot(data_sub.z, data_sub.thy, linestyle='-', color='red')\n",
    "        elif k==2: \n",
    "            plt.subplot(2, 2, 2)\n",
    "            _label=label3\n",
    "            xlabel='$x$'\n",
    "            xlim=[0.0,0.8]\n",
    "            plt.errorbar(data_sub.x, data_sub.value, data_sub.alpha, \n",
    "                    marker='o', linestyle='', color='blue', label=_label)\n",
    "            plt.plot(data_sub.x, data_sub.thy, linestyle='-', color='blue')\n",
    "            data_sub = data[k+1]\n",
    "            _label=label4\n",
    "            #xlabel='$x$'\n",
    "            #xlim=[0.0,0.7]\n",
    "            plt.errorbar(data_sub.x, data_sub.value, data_sub.alpha, \n",
    "                    marker='o', linestyle='', color='red', label=_label)\n",
    "            plt.plot(data_sub.x, data_sub.thy, linestyle='-', color='red')\n",
    "        #elif k==2: \n",
    "            \n",
    "        #elif k==3: \n",
    "            \n",
    "    \n",
    "        plt.xlim(xlim)\n",
    "        plt.xlabel(xlabel)\n",
    "        plt.title(_label,loc='left')\n",
    "        \n",
    "    plt.tight_layout()"
   ]
  },
  {
   "cell_type": "code",
   "execution_count": 17,
   "metadata": {},
   "outputs": [
    {
     "data": {
      "image/png": "[encoded data removed]",
      "text/plain": [
       "<matplotlib.figure.Figure at 0x11fc66310>"
      ]
     },
     "metadata": {},
     "output_type": "display_data"
    }
   ],
   "source": [
    "plotAUTsinphiS(data[9011],data[9022],data[9033],data[9044],'$A_{UT}^{\\sin\\phi_S\\,h}$','$A_{UT}^{\\sin\\phi_S\\,h}$','$A_{UT}^{\\sin\\phi_S\\,h}$','$A_{UT}^{\\sin\\phi_S\\,h}$')"
   ]
  },
  {
   "cell_type": "code",
   "execution_count": 12,
   "metadata": {
    "collapsed": true
   },
   "outputs": [],
   "source": [
    "Z1=10**np.linspace(-4,-2)\n",
    "Z2=np.linspace(0.0101,1)\n",
    "Z=np.append(Z1,Z2)\n",
    "Q2=2\n",
    "#Hpipu=[conf['collinspi'].get_C(z,Q2)[1] for z in Z]\n",
    "#Hpipd=[conf['collinspi'].get_C(z,Q2)[3] for z in Z]\n",
    "#Hpizu=[(conf['collinspi'].get_C(z,Q2)[1]+conf['aux'].charge_conj(conf['collinspi'].get_C(z,Q2))[1])*.5 for z in Z]\n",
    "#Hpizd=[(conf['collinspi'].get_C(z,Q2)[3]+conf['aux'].charge_conj(conf['collinspi'].get_C(z,Q2))[3])*.5 for z in Z]"
   ]
  },
  {
   "cell_type": "code",
   "execution_count": 13,
   "metadata": {
    "collapsed": true
   },
   "outputs": [],
   "source": [
    "X1=10**np.linspace(-4,-2)\n",
    "X2=np.linspace(0.0101,1)\n",
    "X=np.append(X1,X2)\n",
    "Q2=2.\n",
    "TRu= [conf['transversity'].get_C(x,Q2)[1] for x in X]\n",
    "TRd= [conf['transversity'].get_C(x,Q2)[3] for x in X]"
   ]
  },
  {
   "cell_type": "code",
   "execution_count": 14,
   "metadata": {
    "collapsed": true
   },
   "outputs": [],
   "source": [
    "Z1=10**np.linspace(-4,-2)\n",
    "Z2=np.linspace(0.0101,1)\n",
    "Z=np.append(Z1,Z2)\n",
    "Q2=2\n",
    "Htildepipu=[conf['Htildepi'].get_C(z,Q2)[1] for z in Z]\n",
    "Htildepipd=[conf['Htildepi'].get_C(z,Q2)[3] for z in Z]"
   ]
  },
  {
   "cell_type": "code",
   "execution_count": 15,
   "metadata": {},
   "outputs": [
    {
     "name": "stderr",
     "output_type": "stream",
     "text": [
      "/anaconda/lib/python2.7/site-packages/matplotlib/axes/_axes.py:545: UserWarning: No labelled objects found. Use label='...' kwarg on individual plots.\n",
      "  warnings.warn(\"No labelled objects found. \"\n"
     ]
    },
    {
     "data": {
      "image/png": "[encoded data removed]",
      "text/plain": [
       "<matplotlib.figure.Figure at 0x11fb2d050>"
      ]
     },
     "metadata": {},
     "output_type": "display_data"
    }
   ],
   "source": [
    "nrows,ncols=1,2\n",
    "py.figure(figsize=(ncols*5,nrows*5))\n",
    "\n",
    "ax=py.subplot(nrows,ncols,1)\n",
    "#ax.fill_between(X,X*(TR['f'][1]-TR['df'][1]),X*(TR['f'][1]+TR['df'][1]),color='r',alpha=0.5,label=\"u\")\n",
    "#ax.fill_between(X,X*(TR['f'][3]-TR['df'][3]),X*(TR['f'][3]+TR['df'][3]),color='b',alpha=0.5,label=\"d\")\n",
    "ax.plot(X,X*0,'black')\n",
    "ax.plot(X,X*TRu,'r')\n",
    "ax.plot(X,X*TRd,'b')\n",
    "ax.set_ylabel(r'$x h_{1}(x)$',size=20)\n",
    "ax.set_xlabel(r'$x$',size=20)\n",
    "ax.set_ylim(-0.3,0.6)\n",
    "ax.set_xlim(0.,1)\n",
    "#xmin=np.amin(tab['x'])\n",
    "#xmax=np.amax(tab['x'])\n",
    "#ymin,ymax=ax.get_ylim()\n",
    "#dy=ymax-ymin\n",
    "#ax.plot([xmin,xmax],[ymin+dy*0.1,ymin+dy*0.1],'g-')\n",
    "ax.legend(fontsize=20,frameon=False)\n",
    "\n",
    "#ax=py.subplot(nrows,ncols,2)\n",
    "#ax.fill_between(Z,Z*(Hpi['f'][1]-Hpi['df'][1]),Z*(Hpi['f'][1]+Hpi['df'][1]),color='r',alpha=0.5,label=\"fav\")\n",
    "#ax.fill_between(Z,Z*(Hpi['f'][3]-Hpi['df'][3]),Z*(Hpi['f'][3]+Hpi['df'][3]),color='b',alpha=0.5,label=\"unfav\")\n",
    "#ax.plot(Z,Z*0,'black')\n",
    "#ax.plot(Z,2*Z**2*0.135*Hpipu,'r')\n",
    "#ax.plot(Z,2*Z**2*0.135*Hpipd,'b')\n",
    "#ax.plot(Z,2*Z**2*0.135*Hpizu,'green')\n",
    "#ax.plot(Z,2*Z**2*0.135*Hpizd,'purple')\n",
    "#ax.set_ylabel(r'$2z^2M_h H_1^{\\perp (1)}(z)$',size=20)\n",
    "#ax.set_xlabel(r'$z$',size=20)\n",
    "#ax.set_ylim(-0.1,0.6)\n",
    "#ax.set_xlim(0,1)\n",
    "#zmin=np.amin(tab['z'])\n",
    "#zmax=np.amax(tab['z'])\n",
    "#ymin,ymax=ax.get_ylim()\n",
    "#dy=ymax-ymin\n",
    "#ax.plot([zmin,zmax],[ymin+dy*0.1,ymin+dy*0.1],'g-')\n",
    "#ax.legend(fontsize=20,frameon=False)\n",
    "\n",
    "ax=py.subplot(nrows,ncols,2)\n",
    "#ax.fill_between(Z,Z*(Hpi['f'][1]-Hpi['df'][1]),Z*(Hpi['f'][1]+Hpi['df'][1]),color='r',alpha=0.5,label=\"fav\")\n",
    "#ax.fill_between(Z,Z*(Hpi['f'][3]-Hpi['df'][3]),Z*(Hpi['f'][3]+Hpi['df'][3]),color='b',alpha=0.5,label=\"unfav\")\n",
    "ax.plot(Z,Z*0,'black')\n",
    "ax.plot(Z,Z*Htildepipu,'r')\n",
    "ax.plot(Z,Z*Htildepipd,'b')\n",
    "ax.set_ylabel(r'$z\\tilde{H}(z)$',size=20)\n",
    "ax.set_xlabel(r'$z$',size=20)\n",
    "ax.set_ylim(-0.1,0.3)\n",
    "ax.set_xlim(0,1)\n",
    "#zmin=np.amin(tab['z'])\n",
    "#zmax=np.amax(tab['z'])\n",
    "#ymin,ymax=ax.get_ylim()\n",
    "#dy=ymax-ymin\n",
    "#ax.plot([zmin,zmax],[ymin+dy*0.1,ymin+dy*0.1],'g-')\n",
    "ax.legend(fontsize=20,frameon=False)\n",
    "\n",
    "\n",
    "\n",
    "py.tight_layout()"
   ]
  },
  {
   "cell_type": "code",
   "execution_count": 16,
   "metadata": {},
   "outputs": [
    {
     "data": {
      "image/png": "[encoded data removed]",
      "text/plain": [
       "<matplotlib.figure.Figure at 0x11fc66b50>"
      ]
     },
     "metadata": {},
     "output_type": "display_data"
    }
   ],
   "source": [
    "nrows,ncols=1,1\n",
    "py.figure(figsize=(ncols*5,nrows*5))\n",
    "\n",
    "ax=py.subplot(nrows,ncols,1)\n",
    "#ax.fill_between(Z,Z*(Hpi['f'][1]-Hpi['df'][1]),Z*(Hpi['f'][1]+Hpi['df'][1]),color='r',alpha=0.5,label=\"fav\")\n",
    "#ax.fill_between(Z,Z*(Hpi['f'][3]-Hpi['df'][3]),Z*(Hpi['f'][3]+Hpi['df'][3]),color='b',alpha=0.5,label=\"unfav\")\n",
    "ax.plot(Z,Z*0,'black')\n",
    "#ax.plot(Z,Z*(-2*Z*Hpipu+Htildepipu),'r')\n",
    "#ax.plot(Z,Z*(-2*Z*Hpipd+Htildepipd),'b')\n",
    "ax.set_ylabel(r'$z\\,H(z)$',size=20)\n",
    "ax.set_xlabel(r'$z$',size=20)\n",
    "ax.set_ylim(-1,1)\n",
    "ax.set_xlim(0,1)\n",
    "#zmin=np.amin(tab['z'])\n",
    "#zmax=np.amax(tab['z'])\n",
    "#ymin,ymax=ax.get_ylim()\n",
    "#dy=ymax-ymin\n",
    "#ax.plot([zmin,zmax],[ymin+dy*0.1,ymin+dy*0.1],'g-')\n",
    "ax.legend(fontsize=20,frameon=False)\n",
    "\n",
    "\n",
    "py.tight_layout()"
   ]
  },
  {
   "cell_type": "code",
   "execution_count": null,
   "metadata": {
    "collapsed": true
   },
   "outputs": [],
   "source": []
  }
 ],
 "metadata": {
  "anaconda-cloud": {},
  "kernelspec": {
   "display_name": "Python 2",
   "language": "python",
   "name": "python2"
  },
  "language_info": {
   "codemirror_mode": {
    "name": "ipython",
    "version": 2
   },
   "file_extension": ".py",
   "mimetype": "text/x-python",
   "name": "python",
   "nbconvert_exporter": "python",
   "pygments_lexer": "ipython2",
   "version": "2.7.13"
  }
 },
 "nbformat": 4,
 "nbformat_minor": 2
}
